{
 "cells": [
  {
   "cell_type": "markdown",
   "metadata": {},
   "source": [
    "# Context-Aware RAG using AIQ (Alpha)\n",
    "\n",
    "This notebook demonstrates how to use NVIDIA's Context-Aware RAG (CA-RAG) system with AIQ for document processing and question answering. The example shows how to:\n",
    "- Ingest documents using AIQ\n",
    "- Perform question answering using AIQ\n",
    "\n",
    "## Prerequisites\n",
    "\n",
    "1. NVIDIA API Keys:\n",
    "   - Get your API keys from: https://build.nvidia.com\n",
    "   - Export the following environment variables:\n",
    "     ```bash\n",
    "     export NVIDIA_API_KEY=your_api_key\n",
    "     ```\n",
    "\n",
    "2. Install AIQ and Context-Aware RAG:\n",
    "   - Follow the installation instructions in the documentation\n",
    "   - Make sure you have both AIQ and Context-Aware RAG installed in your environment\n",
    "\n",
    "3. Set up Vector Database (Milvus):\n",
    "   - Install and start Milvus\n",
    "   - Export environment variables:\n",
    "     ```bash\n",
    "     export MILVUS_HOST=localhost\n",
    "     export MILVUS_PORT=19530\n",
    "     ```"
   ]
  },
  {
   "cell_type": "code",
   "execution_count": null,
   "metadata": {},
   "outputs": [],
   "source": [
    "%env NVIDIA_API_KEY=<NVIDIA_API_KEY>\n",
    "%env MILVUS_HOST=<MILVUS_HOST>\n",
    "%env MILVUS_PORT=<MILVUS_PORT>"
   ]
  },
  {
   "cell_type": "code",
   "execution_count": 2,
   "metadata": {},
   "outputs": [],
   "source": [
    "import os\n",
    "from pathlib import Path\n",
    "import json\n",
    "\n",
    "# Verify environment variables\n",
    "assert os.getenv('NVIDIA_API_KEY'), \"Please set NVIDIA_API_KEY environment variable\"\n",
    "assert os.getenv('MILVUS_HOST'), \"Please set MILVUS_HOST environment variable\"\n",
    "assert os.getenv('MILVUS_PORT'), \"Please set MILVUS_PORT environment variable\""
   ]
  },
  {
   "cell_type": "markdown",
   "metadata": {},
   "source": [
    "## Start AIQ Services\n",
    "\n",
    "We need to start two AIQ services:\n",
    "1. Ingestion service - for processing and ingesting PDF documents\n",
    "2. Retrieval service - for answering questions based on ingested documents"
   ]
  },
  {
   "cell_type": "markdown",
   "metadata": {},
   "source": [
    "### Starting AIQ Services\n",
    "\n",
    "To start the AIQ services, run the following commands in separate terminal windows:\n",
    "\n",
    "### 1. Start Ingestion Service\n",
    "\n",
    "Terminal 1:\n",
    "\n",
    "```bash\n",
    "aiq serve --config_file=./src/vss_ctx_rag/aiq_config/workflow/config-ingestion-workflow.yml --port 8000\n",
    "```\n",
    "\n",
    "### 2. Start Retrieval Service\n",
    "\n",
    "Terminal 2:\n",
    "```bash\n",
    "aiq serve --config_file=./src/vss_ctx_rag/aiq_config/workflow/config-retrieval-workflow.yml --port 8001\n",
    "```"
   ]
  },
  {
   "cell_type": "markdown",
   "metadata": {},
   "source": [
    "## Ingest Documents"
   ]
  },
  {
   "cell_type": "code",
   "execution_count": 3,
   "metadata": {},
   "outputs": [],
   "source": [
    "# Sample Documents\n",
    "\n",
    "add_doc_data_list = [\n",
    "    \"User1: Hi how are you?\",\n",
    "    \"User2: I am good. How are you?\",\n",
    "    \"User1: I am great too. Thanks for asking\",\n",
    "    \"User2: So what did you do over the weekend?\",\n",
    "    \"User1: I went hiking to Mission Peak\",\n",
    "    \"User3: Guys there is a fire. Let us get out of here\"\n",
    "]\n"
   ]
  },
  {
   "cell_type": "code",
   "execution_count": 4,
   "metadata": {},
   "outputs": [],
   "source": [
    "import requests\n",
    "\n",
    "def ingest_document(doc_list):\n",
    "    \"\"\"Ingest document content using the AIQ ingestion service.\"\"\"\n",
    "    # Ingest documents\n",
    "    ingestion_url = \"http://localhost:8000/generate\"\n",
    "    headers = {\"Content-Type\": \"application/json\"}\n",
    "    try:\n",
    "        for add_doc_data in doc_list:\n",
    "            print(f\"Adding document {add_doc_data}\")\n",
    "            data = {\n",
    "                \"text\": add_doc_data,\n",
    "            }\n",
    "            response = requests.post(\n",
    "                ingestion_url, headers=headers, data=json.dumps(data)\n",
    "            )\n",
    "            response.raise_for_status()  # Raise an error for bad responses\n",
    "            print(f\"Added document {response.json()}\")\n",
    "        return {\"success\": \"All documents uploaded successfully\"}\n",
    "    except requests.exceptions.RequestException as e:\n",
    "        return {\"error\": str(e)}"
   ]
  },
  {
   "cell_type": "code",
   "execution_count": null,
   "metadata": {},
   "outputs": [],
   "source": [
    "ingestion_result = ingest_document(add_doc_data_list)\n",
    "print(f\"Ingestion result: {ingestion_result}\")"
   ]
  },
  {
   "cell_type": "markdown",
   "metadata": {},
   "source": [
    "## Ask Questions\n",
    "\n",
    "Now that we've ingested the documents, let's ask some questions using the retrieval service."
   ]
  },
  {
   "cell_type": "code",
   "execution_count": null,
   "metadata": {},
   "outputs": [],
   "source": [
    "def ask_question(question):\n",
    "    \"\"\"Ask a question using the AIQ retrieval service.\"\"\"\n",
    "    url = \"http://localhost:8001/generate\"\n",
    "    headers = {\"Content-Type\": \"application/json\"}\n",
    "    data = {\n",
    "        \"text\": question,\n",
    "    }\n",
    "    \n",
    "    response = requests.post(url, headers=headers, json=data)\n",
    "    return response.json()\n",
    "\n",
    "# Example questions\n",
    "questions = [\n",
    "    \"summarize the current conversation\",\n",
    "]\n",
    "\n",
    "for question in questions:\n",
    "    print(f\"\\nQuestion: {question}\")\n",
    "    answer = ask_question(question)\n",
    "    print(f\"Answer: {answer}\")"
   ]
  },
  {
   "cell_type": "markdown",
   "metadata": {},
   "source": [
    "## Cleanup\n",
    "\n",
    "When you're done, make sure to stop the AIQ services.\n",
    "When you're done, make sure to stop the AIQ services.\n",
    "\n",
    "To stop the service running in Terminal 1 and Terminal 2: Press `Ctrl+C` in the terminal windows.\n"
   ]
  }
 ],
 "metadata": {
  "kernelspec": {
   "display_name": "via310",
   "language": "python",
   "name": "python3"
  },
  "language_info": {
   "codemirror_mode": {
    "name": "ipython",
    "version": 3
   },
   "file_extension": ".py",
   "mimetype": "text/x-python",
   "name": "python",
   "nbconvert_exporter": "python",
   "pygments_lexer": "ipython3",
   "version": "3.10.14"
  }
 },
 "nbformat": 4,
 "nbformat_minor": 2
}
